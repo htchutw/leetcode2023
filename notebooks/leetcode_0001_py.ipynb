{
  "nbformat": 4,
  "nbformat_minor": 0,
  "metadata": {
    "colab": {
      "provenance": []
    },
    "kernelspec": {
      "name": "python3",
      "display_name": "Python 3"
    },
    "language_info": {
      "name": "python"
    }
  },
  "cells": [
    {
      "cell_type": "markdown",
      "source": [
        "# Leetcode in Python for the problem 0001: Two Sum\n"
      ],
      "metadata": {
        "id": "HIGRKnOQWQ7L"
      }
    },
    {
      "cell_type": "markdown",
      "source": [
        "## define\n",
        "Given an array of integers $num$ and an integer $target$, return __indices__ of the two numbers such that they add up to target.\n",
        "\n",
        "You may assume that each input would have __exactly one solution__, and you may not use the same element twice.\n",
        "\n",
        "You can return the answer in any order."
      ],
      "metadata": {
        "id": "m5Nohu7MWcJS"
      }
    },
    {
      "cell_type": "markdown",
      "source": [
        "## test cases\n",
        "```\n",
        "Input: nums = [2,7,11,15], target = 9\n",
        "Output: [0,1]\n",
        "```\n",
        "\n",
        "```\n",
        "Input: nums = [3,2,4], target = 6\n",
        "Output: [1,2]\n",
        "```\n",
        "\n",
        "```\n",
        "Input: nums = [3,3], target = 6\n",
        "Output: [0,1]\n",
        "```"
      ],
      "metadata": {
        "id": "PjpWJaOuW1Eb"
      }
    },
    {
      "cell_type": "markdown",
      "source": [
        "## Ver. 1 Solution"
      ],
      "metadata": {
        "id": "T3IigbbOW_wC"
      }
    },
    {
      "cell_type": "code",
      "execution_count": 2,
      "metadata": {
        "id": "dnFdgGtaWJW6"
      },
      "outputs": [],
      "source": [
        "nums = [2,7,11,15]\n",
        "target = 9"
      ]
    },
    {
      "cell_type": "code",
      "source": [
        "for i in range(len(nums)-1):\n",
        "  for j in range(i+1, len(nums)):\n",
        "    if nums[i]+nums[j]==target:\n",
        "      #return [i,j]\n",
        "      print([i,j])"
      ],
      "metadata": {
        "colab": {
          "base_uri": "https://localhost:8080/"
        },
        "id": "haXbVS-nXJ7r",
        "outputId": "763e2399-45dd-4050-b72f-8947274b5f8a"
      },
      "execution_count": 3,
      "outputs": [
        {
          "output_type": "stream",
          "name": "stdout",
          "text": [
            "[0, 1]\n"
          ]
        }
      ]
    },
    {
      "cell_type": "code",
      "source": [
        "nums = [3,3]\n",
        "target = 6\n",
        "for i in range(len(nums)-1):\n",
        "  for j in range(i+1, len(nums)):\n",
        "    if nums[i]+nums[j]==target:\n",
        "      #return [i,j]\n",
        "      print([i,j])"
      ],
      "metadata": {
        "colab": {
          "base_uri": "https://localhost:8080/"
        },
        "id": "Lk92LcHWYaOE",
        "outputId": "7cd392f9-6185-4ad2-c46f-b2be0b59fdcf"
      },
      "execution_count": 4,
      "outputs": [
        {
          "output_type": "stream",
          "name": "stdout",
          "text": [
            "[0, 1]\n"
          ]
        }
      ]
    },
    {
      "cell_type": "markdown",
      "source": [],
      "metadata": {
        "id": "xCCJ-O-gZPNq"
      }
    },
    {
      "cell_type": "markdown",
      "source": [
        "## Ver. 2 Solution\n",
        "\n",
        "$target-num[i]$ must be equal to $num[j]$"
      ],
      "metadata": {
        "id": "TLiOhcivYszD"
      }
    },
    {
      "cell_type": "code",
      "source": [
        "nums = [2,7,11,15]\n",
        "target = 9\n",
        "cc = dict()\n",
        "for i in range(len(nums)):\n",
        "  cc[nums[i]]= i"
      ],
      "metadata": {
        "id": "VHH5HA1PaIes"
      },
      "execution_count": 8,
      "outputs": []
    },
    {
      "cell_type": "code",
      "source": [
        "print(cc.keys.)"
      ],
      "metadata": {
        "colab": {
          "base_uri": "https://localhost:8080/"
        },
        "id": "N9XHOoD7aKGi",
        "outputId": "4c0d49c3-7ce5-4439-bd1d-7b91cd23f3b8"
      },
      "execution_count": 11,
      "outputs": [
        {
          "output_type": "stream",
          "name": "stdout",
          "text": [
            "[<built-in method keys of dict object at 0x7bcb257ce500>]\n"
          ]
        }
      ]
    },
    {
      "cell_type": "code",
      "source": [
        "nums = [2,7,11,15]\n",
        "target = 9\n",
        "cc = dict()\n",
        "for i in range(len(nums)):\n",
        "  cc[nums[i]]= i\n",
        "for i in range(len(nums)-1):\n",
        "  a = nums[i]\n",
        "  b = target - a\n",
        "  if b in cc.keys():\n",
        "    if cc[b] > i:\n",
        "      #return [i, completment[b]]\n",
        "      print([i, cc[b]])"
      ],
      "metadata": {
        "colab": {
          "base_uri": "https://localhost:8080/"
        },
        "id": "0w_I0uVtYt5j",
        "outputId": "a97bffca-965a-4497-c780-49adcb83d852"
      },
      "execution_count": 13,
      "outputs": [
        {
          "output_type": "stream",
          "name": "stdout",
          "text": [
            "[0, 1]\n"
          ]
        }
      ]
    },
    {
      "cell_type": "code",
      "source": [
        "nums = [3,3]\n",
        "target = 6\n",
        "cc = dict()\n",
        "for i in range(len(nums)):\n",
        "  cc[nums[i]]= i\n",
        "for i in range(len(nums)-1):\n",
        "  a = nums[i]\n",
        "  b = target - a\n",
        "  if b in cc.keys():\n",
        "    if cc[b] > i:\n",
        "      #return [i, completment[b]]\n",
        "      print([i, cc[b]])"
      ],
      "metadata": {
        "colab": {
          "base_uri": "https://localhost:8080/"
        },
        "id": "nTRjjfnUauMT",
        "outputId": "39257786-9bb0-46c7-ea1e-ad9ac121582a"
      },
      "execution_count": 14,
      "outputs": [
        {
          "output_type": "stream",
          "name": "stdout",
          "text": [
            "[0, 1]\n"
          ]
        }
      ]
    }
  ]
}